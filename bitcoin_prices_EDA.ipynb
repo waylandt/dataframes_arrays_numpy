{
  "nbformat": 4,
  "nbformat_minor": 0,
  "metadata": {
    "colab": {
      "name": "EDA_Tsai_Wayland.ipynb",
      "provenance": [],
      "collapsed_sections": []
    },
    "kernelspec": {
      "name": "python3",
      "display_name": "Python 3"
    }
  },
  "cells": [
    {
      "cell_type": "markdown",
      "metadata": {
        "id": "QEeY8reP-8Q_"
      },
      "source": [
        "In this assignment you can identify a dataset of your interest and perform exploratory data analysis to better understand the data, investigate initial questions about it and develop preliminary insights and hypotheses. Your final submission will be a blog post consisting of a series of captioned visualizations that convey the key insights gained over the course of your analysis. You need to post the blog to medium or your github website.\n",
        "\n",
        "Documenting the data analysis process you went through is the main pedagogical goal of the assignment and more important than the design of the final visualization.\n",
        "\n",
        "We will go over the details of the project during class hours next week."
      ]
    },
    {
      "cell_type": "markdown",
      "metadata": {
        "id": "40FjLaUS_Rui"
      },
      "source": [
        "##**Part 1: Select and Prepare the Data**"
      ]
    },
    {
      "cell_type": "markdown",
      "metadata": {
        "id": "Mu120a3d_SnY"
      },
      "source": [
        "You should start by picking a topic area of interest to you and finding a dataset that can provide insights into that topic. We have provided some datasets below that you can start from. But we encourage you to investigate a different topic and dataset. If you self-select a dataset and are concerned about its appropriateness for the assignment, you can check with the TAs regarding the same.\n",
        "\n",
        "**Note:** The data collection and preparation (also known as data wrangling) can be a very tedious and time-consuming process. Be sure you have sufficient time to conduct exploratory analysis, after preparing the data.\n",
        "\n",
        "After selecting a topic and dataset – but prior to analysis – you should write down an initial set of at least three questions you’d like to investigate."
      ]
    },
    {
      "cell_type": "code",
      "metadata": {
        "id": "49Q0JCZjs4pJ"
      },
      "source": [
        "#link to Medium post of my EDA project\n",
        "#https://waylandt-91186.medium.com/all-the-hype-bitcoin-a1645b366375"
      ],
      "execution_count": null,
      "outputs": []
    },
    {
      "cell_type": "code",
      "metadata": {
        "id": "CnZ_VBZguSMG"
      },
      "source": [
        "#Questions:\n",
        "#1. How do tweets affect the price of Bitcoin? \n",
        "#2. How much does a full year of prices differ from another?\n",
        "#3. Is there a trend in the price of Bitcoin? Are we able to predict it?"
      ],
      "execution_count": null,
      "outputs": []
    },
    {
      "cell_type": "code",
      "metadata": {
        "colab": {
          "base_uri": "https://localhost:8080/",
          "height": 204
        },
        "id": "xafeTqgRK-6D",
        "outputId": "0843f231-f6d9-4767-df54-6f5c126f879d"
      },
      "source": [
        "import pandas as pd\n",
        "import matplotlib.pyplot as plt\n",
        "#from scipy.stats import spearmanr\n",
        "import seaborn as sn\n",
        "\n",
        "#load initial data\n",
        "initial_data = pd.read_csv(\"bitstampUSD_1-min_data_2012-01-01_to_2020-12-31.csv\")\n",
        "#initial_data.head()\n",
        "#initial_data.tail()\n",
        "\n",
        "#load cleaned data (after dropping NA values) into new dataframe\n",
        "#check first and last five rows\n",
        "new_data = initial_data.dropna()\n",
        "new_data.reset_index(inplace = True, drop = True)\n",
        "new_data.head()\n",
        "new_data.tail()"
      ],
      "execution_count": 68,
      "outputs": [
        {
          "output_type": "execute_result",
          "data": {
            "text/html": [
              "<div>\n",
              "<style scoped>\n",
              "    .dataframe tbody tr th:only-of-type {\n",
              "        vertical-align: middle;\n",
              "    }\n",
              "\n",
              "    .dataframe tbody tr th {\n",
              "        vertical-align: top;\n",
              "    }\n",
              "\n",
              "    .dataframe thead th {\n",
              "        text-align: right;\n",
              "    }\n",
              "</style>\n",
              "<table border=\"1\" class=\"dataframe\">\n",
              "  <thead>\n",
              "    <tr style=\"text-align: right;\">\n",
              "      <th></th>\n",
              "      <th>Timestamp</th>\n",
              "      <th>Open</th>\n",
              "      <th>High</th>\n",
              "      <th>Low</th>\n",
              "      <th>Close</th>\n",
              "      <th>Volume_(BTC)</th>\n",
              "      <th>Volume_(Currency)</th>\n",
              "      <th>Weighted_Price</th>\n",
              "    </tr>\n",
              "  </thead>\n",
              "  <tbody>\n",
              "    <tr>\n",
              "      <th>3484300</th>\n",
              "      <td>1609372560</td>\n",
              "      <td>28801.47</td>\n",
              "      <td>28829.42</td>\n",
              "      <td>28785.64</td>\n",
              "      <td>28829.42</td>\n",
              "      <td>0.965221</td>\n",
              "      <td>27804.572129</td>\n",
              "      <td>28806.429798</td>\n",
              "    </tr>\n",
              "    <tr>\n",
              "      <th>3484301</th>\n",
              "      <td>1609372620</td>\n",
              "      <td>28829.42</td>\n",
              "      <td>28863.90</td>\n",
              "      <td>28829.42</td>\n",
              "      <td>28857.06</td>\n",
              "      <td>2.368831</td>\n",
              "      <td>68332.350629</td>\n",
              "      <td>28846.441863</td>\n",
              "    </tr>\n",
              "    <tr>\n",
              "      <th>3484302</th>\n",
              "      <td>1609372680</td>\n",
              "      <td>28850.49</td>\n",
              "      <td>28900.52</td>\n",
              "      <td>28850.49</td>\n",
              "      <td>28882.82</td>\n",
              "      <td>2.466590</td>\n",
              "      <td>71232.784464</td>\n",
              "      <td>28879.056266</td>\n",
              "    </tr>\n",
              "    <tr>\n",
              "      <th>3484303</th>\n",
              "      <td>1609372740</td>\n",
              "      <td>28910.54</td>\n",
              "      <td>28911.52</td>\n",
              "      <td>28867.60</td>\n",
              "      <td>28881.30</td>\n",
              "      <td>7.332773</td>\n",
              "      <td>211870.912660</td>\n",
              "      <td>28893.695831</td>\n",
              "    </tr>\n",
              "    <tr>\n",
              "      <th>3484304</th>\n",
              "      <td>1609372800</td>\n",
              "      <td>28893.21</td>\n",
              "      <td>28928.49</td>\n",
              "      <td>28893.21</td>\n",
              "      <td>28928.49</td>\n",
              "      <td>5.757679</td>\n",
              "      <td>166449.709320</td>\n",
              "      <td>28909.166061</td>\n",
              "    </tr>\n",
              "  </tbody>\n",
              "</table>\n",
              "</div>"
            ],
            "text/plain": [
              "          Timestamp      Open  ...  Volume_(Currency)  Weighted_Price\n",
              "3484300  1609372560  28801.47  ...       27804.572129    28806.429798\n",
              "3484301  1609372620  28829.42  ...       68332.350629    28846.441863\n",
              "3484302  1609372680  28850.49  ...       71232.784464    28879.056266\n",
              "3484303  1609372740  28910.54  ...      211870.912660    28893.695831\n",
              "3484304  1609372800  28893.21  ...      166449.709320    28909.166061\n",
              "\n",
              "[5 rows x 8 columns]"
            ]
          },
          "metadata": {
            "tags": []
          },
          "execution_count": 68
        }
      ]
    },
    {
      "cell_type": "code",
      "metadata": {
        "colab": {
          "base_uri": "https://localhost:8080/",
          "height": 340
        },
        "id": "SWUAoEhQf_c4",
        "outputId": "38a84ec4-3667-4c00-bb7e-094cc9559290"
      },
      "source": [
        "#change timestamp to readable format\n",
        "new_data['Timestamp'] = pd.to_datetime(new_data['Timestamp'], unit='s')\n",
        "new_data.head()\n",
        "new_data.tail()"
      ],
      "execution_count": 69,
      "outputs": [
        {
          "output_type": "stream",
          "text": [
            "/usr/local/lib/python3.7/dist-packages/ipykernel_launcher.py:2: SettingWithCopyWarning:\n",
            "\n",
            "\n",
            "A value is trying to be set on a copy of a slice from a DataFrame.\n",
            "Try using .loc[row_indexer,col_indexer] = value instead\n",
            "\n",
            "See the caveats in the documentation: https://pandas.pydata.org/pandas-docs/stable/user_guide/indexing.html#returning-a-view-versus-a-copy\n",
            "\n"
          ],
          "name": "stderr"
        },
        {
          "output_type": "execute_result",
          "data": {
            "text/html": [
              "<div>\n",
              "<style scoped>\n",
              "    .dataframe tbody tr th:only-of-type {\n",
              "        vertical-align: middle;\n",
              "    }\n",
              "\n",
              "    .dataframe tbody tr th {\n",
              "        vertical-align: top;\n",
              "    }\n",
              "\n",
              "    .dataframe thead th {\n",
              "        text-align: right;\n",
              "    }\n",
              "</style>\n",
              "<table border=\"1\" class=\"dataframe\">\n",
              "  <thead>\n",
              "    <tr style=\"text-align: right;\">\n",
              "      <th></th>\n",
              "      <th>Timestamp</th>\n",
              "      <th>Open</th>\n",
              "      <th>High</th>\n",
              "      <th>Low</th>\n",
              "      <th>Close</th>\n",
              "      <th>Volume_(BTC)</th>\n",
              "      <th>Volume_(Currency)</th>\n",
              "      <th>Weighted_Price</th>\n",
              "    </tr>\n",
              "  </thead>\n",
              "  <tbody>\n",
              "    <tr>\n",
              "      <th>3484300</th>\n",
              "      <td>2020-12-30 23:56:00</td>\n",
              "      <td>28801.47</td>\n",
              "      <td>28829.42</td>\n",
              "      <td>28785.64</td>\n",
              "      <td>28829.42</td>\n",
              "      <td>0.965221</td>\n",
              "      <td>27804.572129</td>\n",
              "      <td>28806.429798</td>\n",
              "    </tr>\n",
              "    <tr>\n",
              "      <th>3484301</th>\n",
              "      <td>2020-12-30 23:57:00</td>\n",
              "      <td>28829.42</td>\n",
              "      <td>28863.90</td>\n",
              "      <td>28829.42</td>\n",
              "      <td>28857.06</td>\n",
              "      <td>2.368831</td>\n",
              "      <td>68332.350629</td>\n",
              "      <td>28846.441863</td>\n",
              "    </tr>\n",
              "    <tr>\n",
              "      <th>3484302</th>\n",
              "      <td>2020-12-30 23:58:00</td>\n",
              "      <td>28850.49</td>\n",
              "      <td>28900.52</td>\n",
              "      <td>28850.49</td>\n",
              "      <td>28882.82</td>\n",
              "      <td>2.466590</td>\n",
              "      <td>71232.784464</td>\n",
              "      <td>28879.056266</td>\n",
              "    </tr>\n",
              "    <tr>\n",
              "      <th>3484303</th>\n",
              "      <td>2020-12-30 23:59:00</td>\n",
              "      <td>28910.54</td>\n",
              "      <td>28911.52</td>\n",
              "      <td>28867.60</td>\n",
              "      <td>28881.30</td>\n",
              "      <td>7.332773</td>\n",
              "      <td>211870.912660</td>\n",
              "      <td>28893.695831</td>\n",
              "    </tr>\n",
              "    <tr>\n",
              "      <th>3484304</th>\n",
              "      <td>2020-12-31 00:00:00</td>\n",
              "      <td>28893.21</td>\n",
              "      <td>28928.49</td>\n",
              "      <td>28893.21</td>\n",
              "      <td>28928.49</td>\n",
              "      <td>5.757679</td>\n",
              "      <td>166449.709320</td>\n",
              "      <td>28909.166061</td>\n",
              "    </tr>\n",
              "  </tbody>\n",
              "</table>\n",
              "</div>"
            ],
            "text/plain": [
              "                  Timestamp      Open  ...  Volume_(Currency)  Weighted_Price\n",
              "3484300 2020-12-30 23:56:00  28801.47  ...       27804.572129    28806.429798\n",
              "3484301 2020-12-30 23:57:00  28829.42  ...       68332.350629    28846.441863\n",
              "3484302 2020-12-30 23:58:00  28850.49  ...       71232.784464    28879.056266\n",
              "3484303 2020-12-30 23:59:00  28910.54  ...      211870.912660    28893.695831\n",
              "3484304 2020-12-31 00:00:00  28893.21  ...      166449.709320    28909.166061\n",
              "\n",
              "[5 rows x 8 columns]"
            ]
          },
          "metadata": {
            "tags": []
          },
          "execution_count": 69
        }
      ]
    },
    {
      "cell_type": "code",
      "metadata": {
        "colab": {
          "base_uri": "https://localhost:8080/",
          "height": 287
        },
        "id": "tFr7jAwvhfk5",
        "outputId": "9e7ec6a9-1264-4fee-f1ab-56e6356b7493"
      },
      "source": [
        "#plot for a visual of Bitcoin prices from 2011-2020 \n",
        "#(there are only 4 data points from 2011 but because of how big the entire dataset is and the point of focus not being 2011, it does not skew the results nor the interpretation)\n",
        "new_data.plot(x=\"Timestamp\",y=\"Weighted_Price\")"
      ],
      "execution_count": 70,
      "outputs": [
        {
          "output_type": "execute_result",
          "data": {
            "text/plain": [
              "<matplotlib.axes._subplots.AxesSubplot at 0x7f71359097d0>"
            ]
          },
          "metadata": {
            "tags": []
          },
          "execution_count": 70
        },
        {
          "output_type": "display_data",
          "data": {
            "image/png": "[encoded data removed]",
            "text/plain": [
              "<Figure size 432x288 with 1 Axes>"
            ]
          },
          "metadata": {
            "tags": [],
            "needs_background": "light"
          }
        }
      ]
    },
    {
      "cell_type": "code",
      "metadata": {
        "colab": {
          "base_uri": "https://localhost:8080/",
          "height": 612
        },
        "id": "nRV7ZUpdjZoG",
        "outputId": "b7107564-0862-4809-d506-1d2ea53afd4e"
      },
      "source": [
        "#add a column called \"Year\"\n",
        "new_data[\"year\"] = pd.DatetimeIndex(new_data[\"Timestamp\"]).year\n",
        "new_data.head()\n",
        "\n",
        "#make a dataframe that only contains year 2020\n",
        "df2020 =  new_data[new_data[\"year\"] == 2020]\n",
        "df2020.reset_index(inplace=True, drop=True)\n",
        "\n",
        "#add new column \"Month\"\n",
        "df2020[\"month\"] = pd.DatetimeIndex(df2020[\"Timestamp\"]).month\n",
        "\n",
        "#add new column \"Day\"\n",
        "df2020[\"day\"] = pd.DatetimeIndex(df2020[\"Timestamp\"]).day\n",
        "\n",
        "df2020.head()\n",
        "df2020.tail()"
      ],
      "execution_count": 71,
      "outputs": [
        {
          "output_type": "stream",
          "text": [
            "/usr/local/lib/python3.7/dist-packages/ipykernel_launcher.py:2: SettingWithCopyWarning:\n",
            "\n",
            "\n",
            "A value is trying to be set on a copy of a slice from a DataFrame.\n",
            "Try using .loc[row_indexer,col_indexer] = value instead\n",
            "\n",
            "See the caveats in the documentation: https://pandas.pydata.org/pandas-docs/stable/user_guide/indexing.html#returning-a-view-versus-a-copy\n",
            "\n",
            "/usr/local/lib/python3.7/dist-packages/ipykernel_launcher.py:10: SettingWithCopyWarning:\n",
            "\n",
            "\n",
            "A value is trying to be set on a copy of a slice from a DataFrame.\n",
            "Try using .loc[row_indexer,col_indexer] = value instead\n",
            "\n",
            "See the caveats in the documentation: https://pandas.pydata.org/pandas-docs/stable/user_guide/indexing.html#returning-a-view-versus-a-copy\n",
            "\n",
            "/usr/local/lib/python3.7/dist-packages/ipykernel_launcher.py:13: SettingWithCopyWarning:\n",
            "\n",
            "\n",
            "A value is trying to be set on a copy of a slice from a DataFrame.\n",
            "Try using .loc[row_indexer,col_indexer] = value instead\n",
            "\n",
            "See the caveats in the documentation: https://pandas.pydata.org/pandas-docs/stable/user_guide/indexing.html#returning-a-view-versus-a-copy\n",
            "\n"
          ],
          "name": "stderr"
        },
        {
          "output_type": "execute_result",
          "data": {
            "text/html": [
              "<div>\n",
              "<style scoped>\n",
              "    .dataframe tbody tr th:only-of-type {\n",
              "        vertical-align: middle;\n",
              "    }\n",
              "\n",
              "    .dataframe tbody tr th {\n",
              "        vertical-align: top;\n",
              "    }\n",
              "\n",
              "    .dataframe thead th {\n",
              "        text-align: right;\n",
              "    }\n",
              "</style>\n",
              "<table border=\"1\" class=\"dataframe\">\n",
              "  <thead>\n",
              "    <tr style=\"text-align: right;\">\n",
              "      <th></th>\n",
              "      <th>Timestamp</th>\n",
              "      <th>Open</th>\n",
              "      <th>High</th>\n",
              "      <th>Low</th>\n",
              "      <th>Close</th>\n",
              "      <th>Volume_(BTC)</th>\n",
              "      <th>Volume_(Currency)</th>\n",
              "      <th>Weighted_Price</th>\n",
              "      <th>year</th>\n",
              "      <th>month</th>\n",
              "      <th>day</th>\n",
              "    </tr>\n",
              "  </thead>\n",
              "  <tbody>\n",
              "    <tr>\n",
              "      <th>517451</th>\n",
              "      <td>2020-12-30 23:56:00</td>\n",
              "      <td>28801.47</td>\n",
              "      <td>28829.42</td>\n",
              "      <td>28785.64</td>\n",
              "      <td>28829.42</td>\n",
              "      <td>0.965221</td>\n",
              "      <td>27804.572129</td>\n",
              "      <td>28806.429798</td>\n",
              "      <td>2020</td>\n",
              "      <td>12</td>\n",
              "      <td>30</td>\n",
              "    </tr>\n",
              "    <tr>\n",
              "      <th>517452</th>\n",
              "      <td>2020-12-30 23:57:00</td>\n",
              "      <td>28829.42</td>\n",
              "      <td>28863.90</td>\n",
              "      <td>28829.42</td>\n",
              "      <td>28857.06</td>\n",
              "      <td>2.368831</td>\n",
              "      <td>68332.350629</td>\n",
              "      <td>28846.441863</td>\n",
              "      <td>2020</td>\n",
              "      <td>12</td>\n",
              "      <td>30</td>\n",
              "    </tr>\n",
              "    <tr>\n",
              "      <th>517453</th>\n",
              "      <td>2020-12-30 23:58:00</td>\n",
              "      <td>28850.49</td>\n",
              "      <td>28900.52</td>\n",
              "      <td>28850.49</td>\n",
              "      <td>28882.82</td>\n",
              "      <td>2.466590</td>\n",
              "      <td>71232.784464</td>\n",
              "      <td>28879.056266</td>\n",
              "      <td>2020</td>\n",
              "      <td>12</td>\n",
              "      <td>30</td>\n",
              "    </tr>\n",
              "    <tr>\n",
              "      <th>517454</th>\n",
              "      <td>2020-12-30 23:59:00</td>\n",
              "      <td>28910.54</td>\n",
              "      <td>28911.52</td>\n",
              "      <td>28867.60</td>\n",
              "      <td>28881.30</td>\n",
              "      <td>7.332773</td>\n",
              "      <td>211870.912660</td>\n",
              "      <td>28893.695831</td>\n",
              "      <td>2020</td>\n",
              "      <td>12</td>\n",
              "      <td>30</td>\n",
              "    </tr>\n",
              "    <tr>\n",
              "      <th>517455</th>\n",
              "      <td>2020-12-31 00:00:00</td>\n",
              "      <td>28893.21</td>\n",
              "      <td>28928.49</td>\n",
              "      <td>28893.21</td>\n",
              "      <td>28928.49</td>\n",
              "      <td>5.757679</td>\n",
              "      <td>166449.709320</td>\n",
              "      <td>28909.166061</td>\n",
              "      <td>2020</td>\n",
              "      <td>12</td>\n",
              "      <td>31</td>\n",
              "    </tr>\n",
              "  </tbody>\n",
              "</table>\n",
              "</div>"
            ],
            "text/plain": [
              "                 Timestamp      Open      High  ...  year  month  day\n",
              "517451 2020-12-30 23:56:00  28801.47  28829.42  ...  2020     12   30\n",
              "517452 2020-12-30 23:57:00  28829.42  28863.90  ...  2020     12   30\n",
              "517453 2020-12-30 23:58:00  28850.49  28900.52  ...  2020     12   30\n",
              "517454 2020-12-30 23:59:00  28910.54  28911.52  ...  2020     12   30\n",
              "517455 2020-12-31 00:00:00  28893.21  28928.49  ...  2020     12   31\n",
              "\n",
              "[5 rows x 11 columns]"
            ]
          },
          "metadata": {
            "tags": []
          },
          "execution_count": 71
        }
      ]
    },
    {
      "cell_type": "code",
      "metadata": {
        "colab": {
          "base_uri": "https://localhost:8080/",
          "height": 584
        },
        "id": "D4zwphBGgPps",
        "outputId": "c13cc377-f14a-4c01-f3c3-1f98428ea8ec"
      },
      "source": [
        "#make dataframe with only the year 2019\n",
        "df2019 = new_data[new_data[\"year\"] == 2019]\n",
        "#add new column \"Month\"\n",
        "df2019[\"month\"] = pd.DatetimeIndex(df2019[\"Timestamp\"]).month\n",
        "\n",
        "#add new column \"Day\"\n",
        "df2019[\"day\"] = pd.DatetimeIndex(df2019[\"Timestamp\"]).day\n",
        "df2019.reset_index(inplace=True, drop=True)\n",
        "\n",
        "#df2019.head()\n",
        "#df2019.tail()\n",
        "\n",
        "#show how prices fluctuate totally differently from year to year by showing 2019 and 2020 prices plotted together\n",
        "plt.plot(df2019.month, df2019.Weighted_Price, label = '2019 prices')\n",
        "plt.plot(df2020.month, df2020.Weighted_Price, label = '2020 prices')\n",
        "plt.xlabel('Course of a year')\n",
        "plt.ylabel('Price')\n",
        "plt.title(\"2019 vs. 2020 Price Fluctuation\")\n",
        "plt.legend()"
      ],
      "execution_count": 72,
      "outputs": [
        {
          "output_type": "stream",
          "text": [
            "/usr/local/lib/python3.7/dist-packages/ipykernel_launcher.py:4: SettingWithCopyWarning:\n",
            "\n",
            "\n",
            "A value is trying to be set on a copy of a slice from a DataFrame.\n",
            "Try using .loc[row_indexer,col_indexer] = value instead\n",
            "\n",
            "See the caveats in the documentation: https://pandas.pydata.org/pandas-docs/stable/user_guide/indexing.html#returning-a-view-versus-a-copy\n",
            "\n",
            "/usr/local/lib/python3.7/dist-packages/ipykernel_launcher.py:7: SettingWithCopyWarning:\n",
            "\n",
            "\n",
            "A value is trying to be set on a copy of a slice from a DataFrame.\n",
            "Try using .loc[row_indexer,col_indexer] = value instead\n",
            "\n",
            "See the caveats in the documentation: https://pandas.pydata.org/pandas-docs/stable/user_guide/indexing.html#returning-a-view-versus-a-copy\n",
            "\n"
          ],
          "name": "stderr"
        },
        {
          "output_type": "execute_result",
          "data": {
            "text/plain": [
              "<matplotlib.legend.Legend at 0x7f7129622c10>"
            ]
          },
          "metadata": {
            "tags": []
          },
          "execution_count": 72
        },
        {
          "output_type": "display_data",
          "data": {
            "image/png": "[encoded data removed]",
            "text/plain": [
              "<Figure size 432x288 with 1 Axes>"
            ]
          },
          "metadata": {
            "tags": [],
            "needs_background": "light"
          }
        }
      ]
    },
    {
      "cell_type": "code",
      "metadata": {
        "colab": {
          "base_uri": "https://localhost:8080/"
        },
        "id": "DMY2009vlGLg",
        "outputId": "f969aa4c-edfa-4b17-eaba-fe397d28108d"
      },
      "source": [
        "#no missing values\n",
        "#can tell far the min and max prices are from the average price\n",
        "#also crazy to note that the new ATH (All Time High) as of 03/05/2021 is over $50000, almost double the max value shown in the table below\n",
        "print(df2020.describe())"
      ],
      "execution_count": 73,
      "outputs": [
        {
          "output_type": "stream",
          "text": [
            "                Open           High  ...          month            day\n",
            "count  517456.000000  517456.000000  ...  517456.000000  517456.000000\n",
            "mean    11052.215476   11058.263578  ...       6.499728      15.710045\n",
            "std      4169.439557    4172.212803  ...       3.457796       8.796471\n",
            "min      3858.270000    3927.050000  ...       1.000000       1.000000\n",
            "25%      8858.465000    8864.425000  ...       3.000000       8.000000\n",
            "50%      9701.220000    9706.315000  ...       7.000000      16.000000\n",
            "75%     11638.905000   11644.165000  ...      10.000000      23.000000\n",
            "max     28997.380000   29010.320000  ...      12.000000      31.000000\n",
            "\n",
            "[8 rows x 10 columns]\n"
          ],
          "name": "stdout"
        }
      ]
    },
    {
      "cell_type": "code",
      "metadata": {
        "colab": {
          "base_uri": "https://localhost:8080/",
          "height": 280
        },
        "id": "tra_asAil8lb",
        "outputId": "0124cc6b-3a36-4ff7-9251-f19fe1f5c279"
      },
      "source": [
        "#plot data from 2020\n",
        "plt_2020 = df2020.plot(x=\"Timestamp\",y=\"Weighted_Price\")"
      ],
      "execution_count": 74,
      "outputs": [
        {
          "output_type": "display_data",
          "data": {
            "image/png": "[encoded data removed]",
            "text/plain": [
              "<Figure size 432x288 with 1 Axes>"
            ]
          },
          "metadata": {
            "tags": [],
            "needs_background": "light"
          }
        }
      ]
    },
    {
      "cell_type": "code",
      "metadata": {
        "colab": {
          "base_uri": "https://localhost:8080/",
          "height": 408
        },
        "id": "F6IGExBJk1Sd",
        "outputId": "9f9dcd68-e760-44e8-b927-0be02bdc198d"
      },
      "source": [
        "#elon musk tweets \"Bitcoin is my safeword\" and \"Bitcoin is almost as bs as fiat money\" on Dec.20 2020 (both were negative tweets towards BTC)\n",
        "#data around musk's tweets\n",
        "df2020_musk = df2020_final[500000:]\n",
        "#df2020_musk.head()\n",
        "plt.xticks(rotation=45)\n",
        "plt.plot('ds', 'y', data=df2020_musk)\n",
        "#as you can see though, there wasn't a huge drop in prices (in BTC terms that is) after his tweets "
      ],
      "execution_count": 75,
      "outputs": [
        {
          "output_type": "stream",
          "text": [
            "/usr/local/lib/python3.7/dist-packages/ipykernel_launcher.py:6: RuntimeWarning:\n",
            "\n",
            "Second argument 'y' is ambiguous: could be a format string but is in 'data'; using as data.  If it was intended as data, set the format string to an empty string to suppress this warning.  If it was intended as a format string, explicitly pass the x-values as well.  Alternatively, rename the entry in 'data'.\n",
            "\n"
          ],
          "name": "stderr"
        },
        {
          "output_type": "execute_result",
          "data": {
            "text/plain": [
              "[<matplotlib.lines.Line2D at 0x7f71434e66d0>]"
            ]
          },
          "metadata": {
            "tags": []
          },
          "execution_count": 75
        },
        {
          "output_type": "display_data",
          "data": {
            "image/png": "[encoded data removed]",
            "text/plain": [
              "<Figure size 432x288 with 1 Axes>"
            ]
          },
          "metadata": {
            "tags": [],
            "needs_background": "light"
          }
        }
      ]
    },
    {
      "cell_type": "code",
      "metadata": {
        "id": "vSRTLFG3Ru3g"
      },
      "source": [
        "#prophet library\n",
        "import fbprophet"
      ],
      "execution_count": 76,
      "outputs": []
    },
    {
      "cell_type": "code",
      "metadata": {
        "colab": {
          "base_uri": "https://localhost:8080/",
          "height": 419
        },
        "id": "W-zfD7GHdkcJ",
        "outputId": "e2605d8f-ce3d-47a7-c0f1-276b97fa4988"
      },
      "source": [
        "#make new copy of dataset of only ds and y columns (column names that apply to fbprophet)\n",
        "df2020_updated = df2020.drop(columns=['Open','High','Low','Close','Volume_(BTC)','Volume_(Currency)','year','month','day'])\n",
        "df2020_final = df2020_updated.rename(columns={\"Timestamp\" : \"ds\", \"Weighted_Price\" :\"y\"})\n",
        "df2020_final"
      ],
      "execution_count": 77,
      "outputs": [
        {
          "output_type": "execute_result",
          "data": {
            "text/html": [
              "<div>\n",
              "<style scoped>\n",
              "    .dataframe tbody tr th:only-of-type {\n",
              "        vertical-align: middle;\n",
              "    }\n",
              "\n",
              "    .dataframe tbody tr th {\n",
              "        vertical-align: top;\n",
              "    }\n",
              "\n",
              "    .dataframe thead th {\n",
              "        text-align: right;\n",
              "    }\n",
              "</style>\n",
              "<table border=\"1\" class=\"dataframe\">\n",
              "  <thead>\n",
              "    <tr style=\"text-align: right;\">\n",
              "      <th></th>\n",
              "      <th>ds</th>\n",
              "      <th>y</th>\n",
              "    </tr>\n",
              "  </thead>\n",
              "  <tbody>\n",
              "    <tr>\n",
              "      <th>0</th>\n",
              "      <td>2020-01-01 00:00:00</td>\n",
              "      <td>7160.068520</td>\n",
              "    </tr>\n",
              "    <tr>\n",
              "      <th>1</th>\n",
              "      <td>2020-01-01 00:01:00</td>\n",
              "      <td>7161.198209</td>\n",
              "    </tr>\n",
              "    <tr>\n",
              "      <th>2</th>\n",
              "      <td>2020-01-01 00:02:00</td>\n",
              "      <td>7158.820000</td>\n",
              "    </tr>\n",
              "    <tr>\n",
              "      <th>3</th>\n",
              "      <td>2020-01-01 00:03:00</td>\n",
              "      <td>7158.321885</td>\n",
              "    </tr>\n",
              "    <tr>\n",
              "      <th>4</th>\n",
              "      <td>2020-01-01 00:04:00</td>\n",
              "      <td>7155.235666</td>\n",
              "    </tr>\n",
              "    <tr>\n",
              "      <th>...</th>\n",
              "      <td>...</td>\n",
              "      <td>...</td>\n",
              "    </tr>\n",
              "    <tr>\n",
              "      <th>517451</th>\n",
              "      <td>2020-12-30 23:56:00</td>\n",
              "      <td>28806.429798</td>\n",
              "    </tr>\n",
              "    <tr>\n",
              "      <th>517452</th>\n",
              "      <td>2020-12-30 23:57:00</td>\n",
              "      <td>28846.441863</td>\n",
              "    </tr>\n",
              "    <tr>\n",
              "      <th>517453</th>\n",
              "      <td>2020-12-30 23:58:00</td>\n",
              "      <td>28879.056266</td>\n",
              "    </tr>\n",
              "    <tr>\n",
              "      <th>517454</th>\n",
              "      <td>2020-12-30 23:59:00</td>\n",
              "      <td>28893.695831</td>\n",
              "    </tr>\n",
              "    <tr>\n",
              "      <th>517455</th>\n",
              "      <td>2020-12-31 00:00:00</td>\n",
              "      <td>28909.166061</td>\n",
              "    </tr>\n",
              "  </tbody>\n",
              "</table>\n",
              "<p>517456 rows × 2 columns</p>\n",
              "</div>"
            ],
            "text/plain": [
              "                        ds             y\n",
              "0      2020-01-01 00:00:00   7160.068520\n",
              "1      2020-01-01 00:01:00   7161.198209\n",
              "2      2020-01-01 00:02:00   7158.820000\n",
              "3      2020-01-01 00:03:00   7158.321885\n",
              "4      2020-01-01 00:04:00   7155.235666\n",
              "...                    ...           ...\n",
              "517451 2020-12-30 23:56:00  28806.429798\n",
              "517452 2020-12-30 23:57:00  28846.441863\n",
              "517453 2020-12-30 23:58:00  28879.056266\n",
              "517454 2020-12-30 23:59:00  28893.695831\n",
              "517455 2020-12-31 00:00:00  28909.166061\n",
              "\n",
              "[517456 rows x 2 columns]"
            ]
          },
          "metadata": {
            "tags": []
          },
          "execution_count": 77
        }
      ]
    },
    {
      "cell_type": "code",
      "metadata": {
        "colab": {
          "base_uri": "https://localhost:8080/",
          "height": 419
        },
        "id": "Ue5aqShUM2xG",
        "outputId": "acbc0fc9-8d1b-4a21-9745-b34623ceb4b0"
      },
      "source": [
        "#only take two months of data\n",
        "df2020_novdec = df2020_final[431230:]\n",
        "df2020_novdec"
      ],
      "execution_count": 78,
      "outputs": [
        {
          "output_type": "execute_result",
          "data": {
            "text/html": [
              "<div>\n",
              "<style scoped>\n",
              "    .dataframe tbody tr th:only-of-type {\n",
              "        vertical-align: middle;\n",
              "    }\n",
              "\n",
              "    .dataframe tbody tr th {\n",
              "        vertical-align: top;\n",
              "    }\n",
              "\n",
              "    .dataframe thead th {\n",
              "        text-align: right;\n",
              "    }\n",
              "</style>\n",
              "<table border=\"1\" class=\"dataframe\">\n",
              "  <thead>\n",
              "    <tr style=\"text-align: right;\">\n",
              "      <th></th>\n",
              "      <th>ds</th>\n",
              "      <th>y</th>\n",
              "    </tr>\n",
              "  </thead>\n",
              "  <tbody>\n",
              "    <tr>\n",
              "      <th>431230</th>\n",
              "      <td>2020-11-01 00:00:00</td>\n",
              "      <td>13765.082827</td>\n",
              "    </tr>\n",
              "    <tr>\n",
              "      <th>431231</th>\n",
              "      <td>2020-11-01 00:01:00</td>\n",
              "      <td>13743.726038</td>\n",
              "    </tr>\n",
              "    <tr>\n",
              "      <th>431232</th>\n",
              "      <td>2020-11-01 00:02:00</td>\n",
              "      <td>13754.056385</td>\n",
              "    </tr>\n",
              "    <tr>\n",
              "      <th>431233</th>\n",
              "      <td>2020-11-01 00:03:00</td>\n",
              "      <td>13772.215662</td>\n",
              "    </tr>\n",
              "    <tr>\n",
              "      <th>431234</th>\n",
              "      <td>2020-11-01 00:04:00</td>\n",
              "      <td>13809.364504</td>\n",
              "    </tr>\n",
              "    <tr>\n",
              "      <th>...</th>\n",
              "      <td>...</td>\n",
              "      <td>...</td>\n",
              "    </tr>\n",
              "    <tr>\n",
              "      <th>517451</th>\n",
              "      <td>2020-12-30 23:56:00</td>\n",
              "      <td>28806.429798</td>\n",
              "    </tr>\n",
              "    <tr>\n",
              "      <th>517452</th>\n",
              "      <td>2020-12-30 23:57:00</td>\n",
              "      <td>28846.441863</td>\n",
              "    </tr>\n",
              "    <tr>\n",
              "      <th>517453</th>\n",
              "      <td>2020-12-30 23:58:00</td>\n",
              "      <td>28879.056266</td>\n",
              "    </tr>\n",
              "    <tr>\n",
              "      <th>517454</th>\n",
              "      <td>2020-12-30 23:59:00</td>\n",
              "      <td>28893.695831</td>\n",
              "    </tr>\n",
              "    <tr>\n",
              "      <th>517455</th>\n",
              "      <td>2020-12-31 00:00:00</td>\n",
              "      <td>28909.166061</td>\n",
              "    </tr>\n",
              "  </tbody>\n",
              "</table>\n",
              "<p>86226 rows × 2 columns</p>\n",
              "</div>"
            ],
            "text/plain": [
              "                        ds             y\n",
              "431230 2020-11-01 00:00:00  13765.082827\n",
              "431231 2020-11-01 00:01:00  13743.726038\n",
              "431232 2020-11-01 00:02:00  13754.056385\n",
              "431233 2020-11-01 00:03:00  13772.215662\n",
              "431234 2020-11-01 00:04:00  13809.364504\n",
              "...                    ...           ...\n",
              "517451 2020-12-30 23:56:00  28806.429798\n",
              "517452 2020-12-30 23:57:00  28846.441863\n",
              "517453 2020-12-30 23:58:00  28879.056266\n",
              "517454 2020-12-30 23:59:00  28893.695831\n",
              "517455 2020-12-31 00:00:00  28909.166061\n",
              "\n",
              "[86226 rows x 2 columns]"
            ]
          },
          "metadata": {
            "tags": []
          },
          "execution_count": 78
        }
      ]
    },
    {
      "cell_type": "code",
      "metadata": {
        "colab": {
          "base_uri": "https://localhost:8080/"
        },
        "id": "PWwvbZebiDnm",
        "outputId": "cb62df6a-0ee5-4292-f8b3-d946da72db65"
      },
      "source": [
        "#fit prophet model on the btc price dataset\n",
        "from fbprophet import Prophet\n",
        "\n",
        "#define model\n",
        "model = Prophet()\n",
        "\n",
        "#fit the model\n",
        "model.fit(df2020_novdec)"
      ],
      "execution_count": 79,
      "outputs": [
        {
          "output_type": "stream",
          "text": [
            "INFO:fbprophet:Disabling yearly seasonality. Run prophet with yearly_seasonality=True to override this.\n"
          ],
          "name": "stderr"
        },
        {
          "output_type": "execute_result",
          "data": {
            "text/plain": [
              "<fbprophet.forecaster.Prophet at 0x7f71357aed10>"
            ]
          },
          "metadata": {
            "tags": []
          },
          "execution_count": 79
        }
      ]
    },
    {
      "cell_type": "code",
      "metadata": {
        "colab": {
          "base_uri": "https://localhost:8080/",
          "height": 142
        },
        "id": "xY8oC6mbipXZ",
        "outputId": "f6b281d1-f7fa-4b4d-fd72-61462242826c"
      },
      "source": [
        "#out-of-sample forecast\n",
        "\n",
        "#define the period for which we want a prediction\n",
        "#because I only wanted to predict the short term trend and only used data of the previous two months, I chose to predict the prices in Jan and Feb 2021\n",
        "future = list()\n",
        "for i in range(1, 4):\n",
        "\tdate = '2021-%02d' % i\n",
        "\tfuture.append([date])\n",
        "future = pd.DataFrame(future)\n",
        "future.columns = ['ds']\n",
        "future['ds']= pd.to_datetime(future['ds'])\n",
        "future"
      ],
      "execution_count": 80,
      "outputs": [
        {
          "output_type": "execute_result",
          "data": {
            "text/html": [
              "<div>\n",
              "<style scoped>\n",
              "    .dataframe tbody tr th:only-of-type {\n",
              "        vertical-align: middle;\n",
              "    }\n",
              "\n",
              "    .dataframe tbody tr th {\n",
              "        vertical-align: top;\n",
              "    }\n",
              "\n",
              "    .dataframe thead th {\n",
              "        text-align: right;\n",
              "    }\n",
              "</style>\n",
              "<table border=\"1\" class=\"dataframe\">\n",
              "  <thead>\n",
              "    <tr style=\"text-align: right;\">\n",
              "      <th></th>\n",
              "      <th>ds</th>\n",
              "    </tr>\n",
              "  </thead>\n",
              "  <tbody>\n",
              "    <tr>\n",
              "      <th>0</th>\n",
              "      <td>2021-01-01</td>\n",
              "    </tr>\n",
              "    <tr>\n",
              "      <th>1</th>\n",
              "      <td>2021-02-01</td>\n",
              "    </tr>\n",
              "    <tr>\n",
              "      <th>2</th>\n",
              "      <td>2021-03-01</td>\n",
              "    </tr>\n",
              "  </tbody>\n",
              "</table>\n",
              "</div>"
            ],
            "text/plain": [
              "          ds\n",
              "0 2021-01-01\n",
              "1 2021-02-01\n",
              "2 2021-03-01"
            ]
          },
          "metadata": {
            "tags": []
          },
          "execution_count": 80
        }
      ]
    },
    {
      "cell_type": "code",
      "metadata": {
        "colab": {
          "base_uri": "https://localhost:8080/",
          "height": 213
        },
        "id": "SfkkOVBLbCcK",
        "outputId": "ac3384ac-f415-4bb9-a939-fa6bcc5a6aa5"
      },
      "source": [
        "#summarize the forecast\n",
        "#because I based prediction on only nov and dec data, the entire trend is upwards\n",
        "forecast = model.predict(future)\n",
        "\n",
        "forecast"
      ],
      "execution_count": 81,
      "outputs": [
        {
          "output_type": "execute_result",
          "data": {
            "text/html": [
              "<div>\n",
              "<style scoped>\n",
              "    .dataframe tbody tr th:only-of-type {\n",
              "        vertical-align: middle;\n",
              "    }\n",
              "\n",
              "    .dataframe tbody tr th {\n",
              "        vertical-align: top;\n",
              "    }\n",
              "\n",
              "    .dataframe thead th {\n",
              "        text-align: right;\n",
              "    }\n",
              "</style>\n",
              "<table border=\"1\" class=\"dataframe\">\n",
              "  <thead>\n",
              "    <tr style=\"text-align: right;\">\n",
              "      <th></th>\n",
              "      <th>ds</th>\n",
              "      <th>trend</th>\n",
              "      <th>yhat_lower</th>\n",
              "      <th>yhat_upper</th>\n",
              "      <th>trend_lower</th>\n",
              "      <th>trend_upper</th>\n",
              "      <th>additive_terms</th>\n",
              "      <th>additive_terms_lower</th>\n",
              "      <th>additive_terms_upper</th>\n",
              "      <th>daily</th>\n",
              "      <th>daily_lower</th>\n",
              "      <th>daily_upper</th>\n",
              "      <th>weekly</th>\n",
              "      <th>weekly_lower</th>\n",
              "      <th>weekly_upper</th>\n",
              "      <th>multiplicative_terms</th>\n",
              "      <th>multiplicative_terms_lower</th>\n",
              "      <th>multiplicative_terms_upper</th>\n",
              "      <th>yhat</th>\n",
              "    </tr>\n",
              "  </thead>\n",
              "  <tbody>\n",
              "    <tr>\n",
              "      <th>0</th>\n",
              "      <td>2021-01-01</td>\n",
              "      <td>28134.475087</td>\n",
              "      <td>27038.432860</td>\n",
              "      <td>28414.485216</td>\n",
              "      <td>27902.082242</td>\n",
              "      <td>28404.628188</td>\n",
              "      <td>-388.754344</td>\n",
              "      <td>-388.754344</td>\n",
              "      <td>-388.754344</td>\n",
              "      <td>34.553631</td>\n",
              "      <td>34.553631</td>\n",
              "      <td>34.553631</td>\n",
              "      <td>-423.307975</td>\n",
              "      <td>-423.307975</td>\n",
              "      <td>-423.307975</td>\n",
              "      <td>0.0</td>\n",
              "      <td>0.0</td>\n",
              "      <td>0.0</td>\n",
              "      <td>27745.720743</td>\n",
              "    </tr>\n",
              "    <tr>\n",
              "      <th>1</th>\n",
              "      <td>2021-02-01</td>\n",
              "      <td>42699.222897</td>\n",
              "      <td>-77053.437142</td>\n",
              "      <td>149032.631543</td>\n",
              "      <td>-77059.267424</td>\n",
              "      <td>148549.022838</td>\n",
              "      <td>671.823708</td>\n",
              "      <td>671.823708</td>\n",
              "      <td>671.823708</td>\n",
              "      <td>34.553631</td>\n",
              "      <td>34.553631</td>\n",
              "      <td>34.553631</td>\n",
              "      <td>637.270077</td>\n",
              "      <td>637.270077</td>\n",
              "      <td>637.270077</td>\n",
              "      <td>0.0</td>\n",
              "      <td>0.0</td>\n",
              "      <td>0.0</td>\n",
              "      <td>43371.046605</td>\n",
              "    </tr>\n",
              "    <tr>\n",
              "      <th>2</th>\n",
              "      <td>2021-03-01</td>\n",
              "      <td>55854.478984</td>\n",
              "      <td>-258857.922034</td>\n",
              "      <td>333992.271646</td>\n",
              "      <td>-259501.182132</td>\n",
              "      <td>333047.347639</td>\n",
              "      <td>671.823708</td>\n",
              "      <td>671.823708</td>\n",
              "      <td>671.823708</td>\n",
              "      <td>34.553631</td>\n",
              "      <td>34.553631</td>\n",
              "      <td>34.553631</td>\n",
              "      <td>637.270077</td>\n",
              "      <td>637.270077</td>\n",
              "      <td>637.270077</td>\n",
              "      <td>0.0</td>\n",
              "      <td>0.0</td>\n",
              "      <td>0.0</td>\n",
              "      <td>56526.302691</td>\n",
              "    </tr>\n",
              "  </tbody>\n",
              "</table>\n",
              "</div>"
            ],
            "text/plain": [
              "          ds         trend  ...  multiplicative_terms_upper          yhat\n",
              "0 2021-01-01  28134.475087  ...                         0.0  27745.720743\n",
              "1 2021-02-01  42699.222897  ...                         0.0  43371.046605\n",
              "2 2021-03-01  55854.478984  ...                         0.0  56526.302691\n",
              "\n",
              "[3 rows x 19 columns]"
            ]
          },
          "metadata": {
            "tags": []
          },
          "execution_count": 81
        }
      ]
    },
    {
      "cell_type": "code",
      "metadata": {
        "colab": {
          "base_uri": "https://localhost:8080/",
          "height": 441
        },
        "id": "wjc6UhPNb9hm",
        "outputId": "bb8fe50d-f98e-4e7b-bb28-06757135bf75"
      },
      "source": [
        "#plot forecast\n",
        "model.plot(forecast[['ds', 'yhat', 'yhat_lower', 'yhat_upper']])\n",
        "plt.show()\n"
      ],
      "execution_count": 82,
      "outputs": [
        {
          "output_type": "display_data",
          "data": {
            "image/png": "[encoded data removed]",
            "text/plain": [
              "<Figure size 720x432 with 1 Axes>"
            ]
          },
          "metadata": {
            "tags": []
          }
        }
      ]
    },
    {
      "cell_type": "code",
      "metadata": {
        "colab": {
          "base_uri": "https://localhost:8080/",
          "height": 1000
        },
        "id": "JEPQOpuebsFk",
        "outputId": "51bf23dc-a460-4e93-bfff-1e7dd848f3b4"
      },
      "source": [
        "#insight into how the daily, weekly and overall trend patterns contribute to the forecasted prices\n",
        "#It was interesting to see how the daily and weekly data fluctuated, since crypto trading, unlike the stock market, is up 24/7 all year round\n",
        "model.plot_components(forecast)"
      ],
      "execution_count": 83,
      "outputs": [
        {
          "output_type": "execute_result",
          "data": {
            "image/png": "[encoded data removed]",
            "text/plain": [
              "<Figure size 648x648 with 3 Axes>"
            ]
          },
          "metadata": {
            "tags": []
          },
          "execution_count": 83
        },
        {
          "output_type": "display_data",
          "data": {
            "image/png": "[encoded data removed]",
            "text/plain": [
              "<Figure size 648x648 with 3 Axes>"
            ]
          },
          "metadata": {
            "tags": []
          }
        }
      ]
    },
    {
      "cell_type": "markdown",
      "metadata": {
        "id": "_97-jxLqB9NI"
      },
      "source": [
        "## **Part 2: Exploratory Analysis**"
      ]
    },
    {
      "cell_type": "markdown",
      "metadata": {
        "id": "rCbLzkhhCB14"
      },
      "source": [
        "Once you have picked the dataset and performed the initial data wrangling, you will perform exploratory analysis to investigate your data. For this assignment we would like you to use Pandas, NumPy and matplotlib to help you with the analysis. \n",
        "\n",
        "**Phase 1:** You should start the exploration by first examining the shape and structure of your data. What dimensions/variables does it contain and how are the data values distributed? Are there any notable data quality issues? Find out if there are missing values in the data and think of how you can handle them. Are there any surprising relationships between the dimensions/variables? Make sure to perform sanity checks for patterns you expect to see! Note that it may be the case that after doing a bit of exploration in phase 1 you find that your data is not as interesting as you first thought. In such cases you might consider returning to Part 1 and identifying a different dataset to work with. Such iteration on choosing the dataset is common, but also time-consuming, so make sure you leave time in your schedule for this.\n",
        "\n",
        "**Phase 2:** Next, you should investigate your initial questions, as well as any new questions that arise during your exploration. For each question, create a visualization that might provide a useful answer. Then refine the visualization (by adding additional variables, changing the sort ordering or axis scales, filtering or subsetting data, etc.) to develop better perspectives explore unexpected observations, or sanity check your assumptions. You should repeat this process for each of your questions, and also feel free to revise your questions or branch off to explore new questions as the data warrants."
      ]
    },
    {
      "cell_type": "markdown",
      "metadata": {
        "id": "IUjuPZ9_CUkW"
      },
      "source": [
        "## **Final Deliverable**"
      ]
    },
    {
      "cell_type": "markdown",
      "metadata": {
        "id": "AroFpzSaCXDa"
      },
      "source": [
        "Your final submission should take the form of a blog post that consists of 10 or more captioned visualizations detailing your most important insights. You will also work on posting the blog to medium or your github website. Your “insights” can include important surprises or issues (such as data quality problems affecting your analysis) as well as responses to your analysis questions.\n",
        "\n",
        "Each visualization image should be a screenshot accompanied with a title and descriptive caption (1-4 sentences long) describing the insight(s) learned from that view. Provide sufficient detail for each caption such that anyone could read through your report and understand what you’ve learned. You are free, but not required, to annotate your images to draw attention to specific features of the data. \n",
        "\n",
        "Do not submit a blog cluttered with everything little thing you tried. Submit a clean report that highlights the most important “milestones” in your exploration, which can include initial overviews, identification of data quality problems, confirmations of key assumptions, and potential “discoveries”. Your blog should only present the final dataset you analyzed and should not describe any iterations on earlier datasets you might have initially explored."
      ]
    },
    {
      "cell_type": "markdown",
      "metadata": {
        "id": "XlvqVKO3CZxv"
      },
      "source": [
        "## **Data Sources**"
      ]
    },
    {
      "cell_type": "markdown",
      "metadata": {
        "id": "3tHXuSJ3CaiO"
      },
      "source": [
        "There are a variety of data sources available online. Here are some possible sources to consider. If you have any questions about whether your dataset is appropriate, please talk to the TAs.\n",
        "\n",
        "**Data is Plural** - Variety of datasets and sources covering many topics.\n",
        "\n",
        "https://data.gov - U.S. Government open datasets.\n",
        "\n",
        "U.S. Census Bureau - Census data - https://data.census.gov/\n",
        "\n",
        "Federal Elections Commission - Campaign finance and expenditures. - https://www.fec.gov/data/\n",
        "\n",
        "Federal Aviation Administration - FAA data - https://www.faa.gov/data_research/\n",
        "\n",
        "https://www.kaggle.com/\n",
        "\n",
        "https://archive.ics.uci.edu/ml/index.php\n",
        "\n",
        "https://github.com/awesomedata/awesome-public-datasets - Awesome Public Datasets - Variety of public datasets.\n",
        "\n",
        "Stanford Cable TV News Analyzer - We have recently released a tool that can be used to analyze who and what appears in the last decade of Cable TV News (i.e. CNN, Fox News, MSNBC). The site lets you download data as well which you could use to conduct further analysis. - https://tvnews.stanford.edu/data"
      ]
    },
    {
      "cell_type": "markdown",
      "metadata": {
        "id": "r1dkn1c9CtjY"
      },
      "source": [
        "### **Visualization Tool (matplotlib, seaborn, etc)**"
      ]
    },
    {
      "cell_type": "markdown",
      "metadata": {
        "id": "HDf8VHW7Cv2l"
      },
      "source": [
        "One goal of this assignment is for you to learn to use and evaluate the effectiveness of these packages. In addition to these packages, you are free to also use other visualization tools as you see fit, for example, you could also take a look at Tableau."
      ]
    },
    {
      "cell_type": "markdown",
      "metadata": {
        "id": "VlUMHuXCCzRa"
      },
      "source": [
        "### **Data Wrangling Tools**"
      ]
    },
    {
      "cell_type": "markdown",
      "metadata": {
        "id": "uPjA2VABC1fA"
      },
      "source": [
        "The data you choose may require reformatting, transformation or cleaning prior to visualization. You can use Pandas for data preparation. "
      ]
    },
    {
      "cell_type": "markdown",
      "metadata": {
        "id": "RG61l1mTC3ju"
      },
      "source": [
        "### **Grading**"
      ]
    },
    {
      "cell_type": "markdown",
      "metadata": {
        "id": "ESbDdwRzC5aM"
      },
      "source": [
        "Each submission will be graded based on both the analysis process and the included visualizations. Here are our grading criteria:\n",
        "\n",
        "**Appropriate Data Assessment (5):** Overview/understanding of the data is built from transformations and appropriate assessment of data quality. Poses clear questions.\n",
        "\n",
        "**Exploration Thoroughness (5):** Sufficient breadth of analysis, exploring questions in sufficient depth (with appropriate follow-up questions).\n",
        "\n",
        "**Documentation (Blog) (5):** Clear documentation of exploratory process, including clearly written, understandable captions that communicate primary insights.\n",
        "\n",
        "**Appropriate use of Numpy, Pandas, and Matplotlib (5)**  to ingest, clean, and present the data"
      ]
    },
    {
      "cell_type": "markdown",
      "metadata": {
        "id": "TJrX_ynfC7Pp"
      },
      "source": [
        "### **Submission Details**"
      ]
    },
    {
      "cell_type": "markdown",
      "metadata": {
        "id": "gM4CysyYC9dA"
      },
      "source": [
        "This is an individual assignment. You may not work in groups. The assignment is due on Friday (03/05/2021)\n",
        "\n",
        "To submit your assignment, download your notebook and zip all the necessary files(data files). Submit the zipped file to balckboard. Make sure the notebook and the zipped file is named in the format - EDA_LastName_FirstName. Be sure to include the link to access your blog in your notebook.\n",
        "\n",
        "Also include the link to your notebook in the submission. \n",
        "\n",
        "We will provide more details on the blog during the next week of class.\n",
        "\n",
        "**Note** - If the dataset is too large to be zipped and submitted on blackboard, only submit your notebook, add your dataset to your google drive and share a link to the file in your notebook."
      ]
    }
  ]
}